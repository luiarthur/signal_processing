{
 "cells": [
  {
   "cell_type": "markdown",
   "metadata": {},
   "source": [
    "Latex Definitions Here:\n",
    "$\n",
    "% Latex definition\n",
    "% note: Ctrl-shfit-p for shortcuts menu\n",
    "\\newcommand{\\iid}{\\overset{iid}{\\sim}}\n",
    "\\newcommand{\\ind}{\\overset{ind}{\\sim}}\n",
    "\\newcommand{\\p}[1]{\\left(#1\\right)}\n",
    "\\newcommand{\\bk}[1]{\\left[#1\\right]}\n",
    "\\newcommand{\\bc}[1]{ \\left\\{#1\\right\\} }\n",
    "\\newcommand{\\abs}[1]{ \\left|#1\\right| }\n",
    "\\newcommand{\\ceil}[1]{ \\lceil#1\\rceil }\n",
    "\\newcommand{\\norm}[1]{ \\left|\\left|#1\\right|\\right| }\n",
    "\\newcommand{\\E}{ \\text{E} } \\newcommand{\\N}{ \\mathcal N }\n",
    "\\newcommand{\\ds}{ \\displaystyle }\n",
    "\\newcommand{\\R}{ \\mathbb{R} }\n",
    "\\newcommand{\\suml}{ \\sum_{i=1}^n }\n",
    "\\newcommand{\\prodl}{ \\prod_{i=1}^n }\n",
    "\\newcommand{\\overunderset}[3]{\\overset{#1}{\\underset{#2}{#3}}}\n",
    "\\newcommand{\\asym}{\\overset{\\cdot}{\\sim}}\n",
    "\\newcommand{\\given}{\\bigg |} \n",
    "\\newcommand{\\M}{\\mathcal{M}}\n",
    "\\newcommand{\\Mult}{\\text{Mult}}\n",
    "\\newcommand{\\F}{\\mathcal{F}}\n",
    "\\newcommand{\\P}{\\mathcal{P}}\n",
    "$"
   ]
  },
  {
   "cell_type": "markdown",
   "metadata": {},
   "source": [
    "# Euler's Formula\n",
    "\n",
    "$$ e^{i\\theta} = \\cos(\\theta) + i\\sin(\\theta) $$\n",
    "\n",
    "# Fourier Transform\n",
    "\n",
    "$$\n",
    "F(\\omega) = \\int_{-\\infty}^\\infty f(x) e^{-2\\pi i \\omega x} dx\n",
    "$$\n",
    "\n",
    "# Inverse Fourier Transform\n",
    "\n",
    "$$\n",
    "f(x) = \\int_{-\\infty}^\\infty F(\\omega) e^{2\\pi i \\omega x} d\\omega\n",
    "$$\n",
    "\n",
    "\n",
    "\n",
    "# Discrete Fourier Transform (DFT)\n",
    "\n",
    "$$\n",
    "F[k] = \\sum_{n=0}^{N-1} x[n] e^{-i2\\pi kn/N}, ~~ k = 0, \\cdots N-1 \n",
    "$$\n",
    "\n",
    "- $n$: discrete time index\n",
    "- $k$: discrete frequency index\n",
    "- $\\omega_k = 2\\pi k/N$: frequency in radians\n",
    "- $f_k = f_s k /N$: frequency in Hz ($f_s$ is the sampling rate)\n",
    "\n",
    "# Inverse DFT\n",
    "\n",
    "$$\n",
    "f[k] = \\frac{1}{N} \\sum_{n=0}^{N-1} T[n] e^{i2\\pi kn/N}, ~~ k = 0, \\cdots N-1 \n",
    "$$\n"
   ]
  },
  {
   "cell_type": "markdown",
   "metadata": {},
   "source": [
    "# DFT Properties\n",
    "\n",
    "Let $\\F$ be the DFT operator\n",
    "\n",
    "\n",
    "- Linearity: $\\F(a x_1[k] + b x_2[k]) = a \\F(x_1[k]) + b \\F(x_2[k])$\n",
    "- Shift: $\\F(x[k-a]) = \\F(x[k]) e^{-i2\\pi k a / N}$\n",
    "- Symmetry: ???\n",
    "- Convolution: $\\F(x_1[k] * x_2[k]) = \\F(x_1[k]) \\F(x_2[k])$\n",
    "- Energy Conservation: $\\sum_n \\abs{x[n]}^2 = \\frac{1}{N} \\sum_k \\abs{X[n]}^2$\n",
    "\n"
   ]
  },
  {
   "cell_type": "code",
   "execution_count": null,
   "metadata": {
    "collapsed": true
   },
   "outputs": [],
   "source": []
  }
 ],
 "metadata": {
  "kernelspec": {
   "display_name": "Python 2",
   "language": "python",
   "name": "python2"
  },
  "language_info": {
   "codemirror_mode": {
    "name": "ipython",
    "version": 2
   },
   "file_extension": ".py",
   "mimetype": "text/x-python",
   "name": "python",
   "nbconvert_exporter": "python",
   "pygments_lexer": "ipython2",
   "version": "2.7.12"
  }
 },
 "nbformat": 4,
 "nbformat_minor": 0
}
